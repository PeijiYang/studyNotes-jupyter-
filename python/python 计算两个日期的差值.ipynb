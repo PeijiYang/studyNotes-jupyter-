{
 "cells": [
  {
   "cell_type": "markdown",
   "metadata": {},
   "source": [
    "# 日期合法函数"
   ]
  },
  {
   "cell_type": "code",
   "execution_count": 2,
   "metadata": {},
   "outputs": [
    {
     "name": "stdout",
     "output_type": "stream",
     "text": [
      "2018-01-11 True\n",
      "20180111 False\n",
      "2018-06-31 False\n"
     ]
    }
   ],
   "source": [
    "from dateutil import rrule\n",
    "from datetime import datetime\n",
    "\n",
    "# 判断日期是否合法\n",
    "def isVaildDate(date):\n",
    "    try:\n",
    "        # 你的格式\n",
    "        datetime.strptime(date, \"%Y-%m-%d\")\n",
    "        return True\n",
    "    except:\n",
    "        return False\n",
    "    \n",
    "date1 = '2018-01-11'\n",
    "date2 = '20180111'\n",
    "date3 = '2018-06-31'       # 超过月份最大日期数\n",
    "\n",
    "print(date1, isVaildDate(date1))\n",
    "print(date2, isVaildDate(date2))\n",
    "print(date3, isVaildDate(date3))"
   ]
  },
  {
   "cell_type": "markdown",
   "metadata": {},
   "source": [
    "# 计算日期差值"
   ]
  },
  {
   "cell_type": "code",
   "execution_count": 4,
   "metadata": {},
   "outputs": [
    {
     "name": "stdout",
     "output_type": "stream",
     "text": [
      "99\n",
      "-99\n"
     ]
    }
   ],
   "source": [
    "def cal_days(date_start, date_end):\n",
    "    # 参数为date格式\n",
    "    days1 = rrule.rrule(rrule.DAILY, dtstart=date_start, until=date_end)\n",
    "    days2 = rrule.rrule(rrule.DAILY, dtstart=date_end, until=date_start)\n",
    "    \n",
    "    if days1.count() == 0:\n",
    "        days = -days2.count()\n",
    "    else:\n",
    "        days = days1.count()\n",
    "    \n",
    "    return days\n",
    "\n",
    "date1 = datetime.strptime('2019-01-11', \"%Y-%m-%d\")\n",
    "date2 = datetime.strptime('2018-10-05', \"%Y-%m-%d\")\n",
    "\n",
    "print(date_start,date_end, cal_days(date2, date1))\n",
    "print(cal_days(date1, date2))"
   ]
  },
  {
   "cell_type": "code",
   "execution_count": null,
   "metadata": {},
   "outputs": [],
   "source": []
  }
 ],
 "metadata": {
  "kernelspec": {
   "display_name": "Python 3",
   "language": "python",
   "name": "python3"
  },
  "language_info": {
   "codemirror_mode": {
    "name": "ipython",
    "version": 3
   },
   "file_extension": ".py",
   "mimetype": "text/x-python",
   "name": "python",
   "nbconvert_exporter": "python",
   "pygments_lexer": "ipython3",
   "version": "3.6.7"
  }
 },
 "nbformat": 4,
 "nbformat_minor": 2
}
