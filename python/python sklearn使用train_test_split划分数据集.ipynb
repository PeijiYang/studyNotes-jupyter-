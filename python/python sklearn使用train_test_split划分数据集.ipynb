{
 "cells": [
  {
   "cell_type": "markdown",
   "metadata": {},
   "source": [
    "# 使用sklearn将数据集划分为训练集和测试集"
   ]
  },
  {
   "cell_type": "code",
   "execution_count": 1,
   "metadata": {},
   "outputs": [],
   "source": [
    "import numpy as np\n",
    "from sklearn.model_selection import train_test_split"
   ]
  },
  {
   "cell_type": "code",
   "execution_count": 2,
   "metadata": {},
   "outputs": [
    {
     "name": "stdout",
     "output_type": "stream",
     "text": [
      "x:\n",
      "[[ 0  1]\n",
      " [ 2  3]\n",
      " [ 4  5]\n",
      " [ 6  7]\n",
      " [ 8  9]\n",
      " [10 11]\n",
      " [12 13]\n",
      " [14 15]\n",
      " [16 17]\n",
      " [18 19]\n",
      " [20 21]\n",
      " [22 23]\n",
      " [24 25]\n",
      " [26 27]\n",
      " [28 29]]\n",
      " y:\n",
      "[ 0  1  2  3  4  5  6  7  8  9 10 11 12 13 14]\n"
     ]
    }
   ],
   "source": [
    "# 生成样本数据\n",
    "X, y = np.arange(30).reshape((15,2)), np.arange(15)\n",
    "print('x:\\n{}\\n y:\\n{}'.format(X ,y))"
   ]
  },
  {
   "cell_type": "code",
   "execution_count": 7,
   "metadata": {},
   "outputs": [
    {
     "name": "stdout",
     "output_type": "stream",
     "text": [
      "[[ 0  1]\n",
      " [26 27]\n",
      " [10 11]\n",
      " [16 17]\n",
      " [ 4  5]\n",
      " [ 2  3]\n",
      " [28 29]\n",
      " [ 8  9]\n",
      " [14 15]\n",
      " [20 21]\n",
      " [24 25]\n",
      " [ 6  7]\n",
      " [12 13]] \n",
      " [ 0 13  5  8  2  1 14  4  7 10 12  3  6]\n",
      "[[18 19]\n",
      " [22 23]] \n",
      " [ 9 11]\n"
     ]
    }
   ],
   "source": [
    "# 划分数据集, 参数说明：特征数据，标签数据，划分比例，随机种子, 将数据集换分为9:1\n",
    "X_train, X_test, y_train, y_test = train_test_split(X, y, test_size=0.1, random_state=42)"
   ]
  },
  {
   "cell_type": "markdown",
   "metadata": {},
   "source": [
    "# train_test_spilt 按照比例划分数据集"
   ]
  },
  {
   "cell_type": "markdown",
   "metadata": {},
   "source": [
    "设置stratify参数，可以按照标签或者某一维特征的比例划分数据集"
   ]
  },
  {
   "cell_type": "code",
   "execution_count": 10,
   "metadata": {},
   "outputs": [
    {
     "name": "stdout",
     "output_type": "stream",
     "text": [
      "number of A:12, B:8\n",
      "test number of A:3, B:2\n"
     ]
    }
   ],
   "source": [
    "X = np.arange(20)\n",
    "y = ['A','B','A','A','A','B','A','B','B','A','A','B','B','A','A','B','A','B','A','A']\n",
    "print('number of A:{}, B:{}'.format(y.count('A'), y.count('B')))\n",
    "X_train, X_test, y_train, y_test = train_test_split(X, y, test_size = 0.25, stratify=y, random_state=42)\n",
    "print('test number of A:{}, B:{}'.format(y_test.count('A'), y_test.count('B')))"
   ]
  },
  {
   "cell_type": "code",
   "execution_count": null,
   "metadata": {},
   "outputs": [],
   "source": []
  }
 ],
 "metadata": {
  "kernelspec": {
   "display_name": "Python 3",
   "language": "python",
   "name": "python3"
  },
  "language_info": {
   "codemirror_mode": {
    "name": "ipython",
    "version": 3
   },
   "file_extension": ".py",
   "mimetype": "text/x-python",
   "name": "python",
   "nbconvert_exporter": "python",
   "pygments_lexer": "ipython3",
   "version": "3.6.7"
  }
 },
 "nbformat": 4,
 "nbformat_minor": 2
}
