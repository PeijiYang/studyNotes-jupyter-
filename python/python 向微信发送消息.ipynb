{
 "cells": [
  {
   "cell_type": "code",
   "execution_count": null,
   "metadata": {},
   "outputs": [],
   "source": []
  },
  {
   "cell_type": "code",
   "execution_count": 1,
   "metadata": {},
   "outputs": [],
   "source": [
    "import requests\n",
    "import os\n",
    "\n",
    "os.environ['http_proxy'] = 'http://10.249.148.139:7890'\n",
    "os.environ['https_proxy'] = 'http://10.249.148.139:7890'\n",
    "api = \"https://sc.ftqq.com/SCU88001Tf72ede214b2df11a6bde4c3a68c0f26c5e60b2b6f3f5e.send\"\n",
    "title = \"trainging start\"\n",
    "content = \"这是程序发的信息\\n\\n请查收\"\n",
    "\n",
    "data = {\n",
    "\"text\":title,\n",
    "\"desp\":content\n",
    "}\n",
    "\n",
    "req = requests.post(api,data = data)"
   ]
  },
  {
   "cell_type": "code",
   "execution_count": 4,
   "metadata": {},
   "outputs": [],
   "source": [
    "from dinglingling import wx_reminder"
   ]
  },
  {
   "cell_type": "code",
   "execution_count": 5,
   "metadata": {},
   "outputs": [],
   "source": [
    "proxy = \"http://10.249.148.139:7890\"\n",
    "sckey = \"SCU88001Tf72ede214b2df11a6bde4c3a68c0f26c5e60b2b6f3f5e\"\n",
    "\n",
    "@wx_reminder(sckey, proxy)\n",
    "def test():\n",
    "    print(\"a\")"
   ]
  },
  {
   "cell_type": "code",
   "execution_count": 6,
   "metadata": {},
   "outputs": [
    {
     "name": "stdout",
     "output_type": "stream",
     "text": [
      "a\n"
     ]
    }
   ],
   "source": [
    "test()"
   ]
  },
  {
   "cell_type": "code",
   "execution_count": 8,
   "metadata": {},
   "outputs": [],
   "source": [
    "import torch\n",
    "torch.max?"
   ]
  },
  {
   "cell_type": "code",
   "execution_count": null,
   "metadata": {},
   "outputs": [],
   "source": []
  }
 ],
 "metadata": {
  "kernelspec": {
   "display_name": "Python 3",
   "language": "python",
   "name": "python3"
  },
  "language_info": {
   "codemirror_mode": {
    "name": "ipython",
    "version": 3
   },
   "file_extension": ".py",
   "mimetype": "text/x-python",
   "name": "python",
   "nbconvert_exporter": "python",
   "pygments_lexer": "ipython3",
   "version": "3.7.4"
  }
 },
 "nbformat": 4,
 "nbformat_minor": 2
}
