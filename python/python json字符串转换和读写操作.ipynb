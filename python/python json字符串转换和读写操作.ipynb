{
 "cells": [
  {
   "cell_type": "markdown",
   "metadata": {},
   "source": [
    "# 字典和json格式转换"
   ]
  },
  {
   "cell_type": "code",
   "execution_count": 6,
   "metadata": {
    "collapsed": true
   },
   "outputs": [],
   "source": [
    "import json"
   ]
  },
  {
   "cell_type": "code",
   "execution_count": 7,
   "metadata": {
    "collapsed": true
   },
   "outputs": [],
   "source": [
    "dict = {'A':1, 'B':[1,2,'x'], 'C':{'D':'2018', 'F':'中文'}}"
   ]
  },
  {
   "cell_type": "code",
   "execution_count": 12,
   "metadata": {},
   "outputs": [
    {
     "name": "stdout",
     "output_type": "stream",
     "text": [
      "{\"A\": 1, \"B\": [1, 2, \"x\"], \"C\": {\"D\": \"2018\", \"F\": \"\\u4e2d\\u6587\"}}\n",
      "{\"A\": 1, \"B\": [1, 2, \"x\"], \"C\": {\"D\": \"2018\", \"F\": \"中文\"}}\n"
     ]
    }
   ],
   "source": [
    "# 将字典转为json字符串\n",
    "\n",
    "# 直接转换，如果有中文将会显示unicode编码\n",
    "jstr = json.dumps(dict)  \n",
    "print(jstr)\n",
    "\n",
    "# 添加ensure_ascii = False 参数，就可以正常显示中文\n",
    "jstr = json.dumps(dict, ensure_ascii=False)\n",
    "print(jstr)"
   ]
  },
  {
   "cell_type": "code",
   "execution_count": 9,
   "metadata": {},
   "outputs": [
    {
     "name": "stdout",
     "output_type": "stream",
     "text": [
      "{'A': 1, 'B': [1, 2, 'x'], 'C': {'D': '2018', 'F': '中文'}}\n"
     ]
    }
   ],
   "source": [
    "# 将json字符串转为字典\n",
    "jdic = json.loads(jstr)\n",
    "print(jdic)"
   ]
  },
  {
   "cell_type": "markdown",
   "metadata": {},
   "source": [
    "# json字符串读取写入"
   ]
  },
  {
   "cell_type": "code",
   "execution_count": 14,
   "metadata": {},
   "outputs": [
    {
     "name": "stdout",
     "output_type": "stream",
     "text": [
      "{'A': 1, 'B': [1, 2, 'x'], 'C': {'D': '2018', 'F': '中文'}}\n"
     ]
    }
   ],
   "source": [
    "# 将字典写入json文件\n",
    "with open('./tmp_data/json_test.json', 'w', encoding='utf-8') as jfile:\n",
    "    json.dump(jdic, jfile, ensure_ascii=False)\n",
    "\n",
    "# 读取json文件转换为字典\n",
    "with open('./tmp_data/json_test.json', 'r', encoding='utf-8') as jfile:\n",
    "    jdict = json.load(jfile)\n",
    "\n",
    "print(jdict)"
   ]
  },
  {
   "cell_type": "code",
   "execution_count": null,
   "metadata": {
    "collapsed": true
   },
   "outputs": [],
   "source": []
  }
 ],
 "metadata": {
  "kernelspec": {
   "display_name": "Python 3",
   "language": "python",
   "name": "python3"
  },
  "language_info": {
   "codemirror_mode": {
    "name": "ipython",
    "version": 3
   },
   "file_extension": ".py",
   "mimetype": "text/x-python",
   "name": "python",
   "nbconvert_exporter": "python",
   "pygments_lexer": "ipython3",
   "version": "3.6.7"
  }
 },
 "nbformat": 4,
 "nbformat_minor": 2
}
