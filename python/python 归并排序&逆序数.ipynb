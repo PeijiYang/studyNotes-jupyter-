{
 "cells": [
  {
   "cell_type": "code",
   "execution_count": 7,
   "metadata": {},
   "outputs": [],
   "source": [
    "def divide(arr, left, right, res):\n",
    "    # 归并\n",
    "    if left >= right:\n",
    "        return res\n",
    "    \n",
    "    mid = (left+right)//2\n",
    "    res = divide(arr, left, mid, res)\n",
    "    res = divide(arr, mid+1, right, res)\n",
    "    \n",
    "    return merge(arr, left, right, res)\n",
    "\n",
    "def merge(arr, left, right, res):\n",
    "    mid = (left+right)//2\n",
    "    \n",
    "    left_arr = arr[left:mid+1]\n",
    "    right_arr = arr[mid+1:right+1]\n",
    "    \n",
    "    i_lf = 0\n",
    "    i_ri = 0\n",
    "    print(left, right)\n",
    "    \n",
    "    assert len(left_arr+right_arr) == len(arr[left:right+1])\n",
    "    \n",
    "    for i in range(left, right+1):\n",
    "        if i_lf < len(left_arr) and i_ri < len(right_arr):\n",
    "            if left_arr[i_lf] <= right_arr[i_ri]:\n",
    "                arr[i] = left_arr[i_lf]\n",
    "                i_lf += 1\n",
    "            else:\n",
    "                arr[i] = right_arr[i_ri]\n",
    "                i_ri += 1\n",
    "                res += len(left_arr)-i_lf\n",
    "        \n",
    "        elif i_lf >= len(left_arr):\n",
    "            arr[i] = right_arr[i_ri]\n",
    "            i_ri += 1\n",
    "        elif i_ri >= len(right_arr):\n",
    "            arr[i] = left_arr[i_lf]\n",
    "            i_lf += 1\n",
    "    \n",
    "    return res"
   ]
  },
  {
   "cell_type": "code",
   "execution_count": null,
   "metadata": {},
   "outputs": [],
   "source": []
  }
 ],
 "metadata": {
  "kernelspec": {
   "display_name": "Python 3",
   "language": "python",
   "name": "python3"
  },
  "language_info": {
   "codemirror_mode": {
    "name": "ipython",
    "version": 3
   },
   "file_extension": ".py",
   "mimetype": "text/x-python",
   "name": "python",
   "nbconvert_exporter": "python",
   "pygments_lexer": "ipython3",
   "version": "3.7.4"
  }
 },
 "nbformat": 4,
 "nbformat_minor": 2
}
