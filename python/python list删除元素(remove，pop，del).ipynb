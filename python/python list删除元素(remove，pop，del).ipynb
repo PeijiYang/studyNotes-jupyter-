{
 "cells": [
  {
   "cell_type": "markdown",
   "metadata": {},
   "source": [
    "# 方法一 依据值删除元素 remove(val)"
   ]
  },
  {
   "cell_type": "code",
   "execution_count": 3,
   "metadata": {},
   "outputs": [
    {
     "name": "stdout",
     "output_type": "stream",
     "text": [
      "[2, 3, 4, 5, 6] ['a', 1] [1, 1, 1, 2, 2]\n",
      "[2, 2, 2, 3, 3, 3]\n"
     ]
    }
   ],
   "source": [
    "li1 = [1,2,3,4,5,6]\n",
    "li1.remove(1)\n",
    "li2 = ['a', 1, 'bcd']\n",
    "li2.remove('bcd')\n",
    "\n",
    "# 注意remove不会删除所有的val值元素，只会删除一个\n",
    "li3 = [1,1,1,2,2,2]\n",
    "li3.remove(2)\n",
    "print(li1, li2, li3)\n",
    "\n",
    "# 删除所有指定元素\n",
    "li4 = [1,1,1,2,2,2,3,3,3]\n",
    "while 1 in li4:\n",
    "    li4.remove(1)\n",
    "\n",
    "print(li4)"
   ]
  },
  {
   "cell_type": "markdown",
   "metadata": {},
   "source": [
    "# 方法二 pop方法删除\n",
    "pop弹出元素，返回值为弹出的元素，默认从末尾弹出"
   ]
  },
  {
   "cell_type": "code",
   "execution_count": 5,
   "metadata": {},
   "outputs": [
    {
     "name": "stdout",
     "output_type": "stream",
     "text": [
      "2 [1, 1, 1, 1, 3, 3, 3, 2]\n"
     ]
    }
   ],
   "source": [
    "li1 = [1,1,1,1,3,3,3,2,2]\n",
    "a = li1.pop()\n",
    "print(a, li1)"
   ]
  },
  {
   "cell_type": "code",
   "execution_count": 6,
   "metadata": {},
   "outputs": [
    {
     "name": "stdout",
     "output_type": "stream",
     "text": [
      "3 [1, 1, 1, 1, 3, 3, 2, 2]\n"
     ]
    }
   ],
   "source": [
    "li2 = [1,1,1,1,3,3,3,2,2]\n",
    "a = li2.pop(4)\n",
    "print(a, li2)"
   ]
  },
  {
   "cell_type": "markdown",
   "metadata": {},
   "source": [
    "# 方法三 del方法"
   ]
  },
  {
   "cell_type": "code",
   "execution_count": 7,
   "metadata": {},
   "outputs": [],
   "source": [
    "li1 = ['a', 'b', 'c']\n",
    "del li1[1]"
   ]
  },
  {
   "cell_type": "code",
   "execution_count": 9,
   "metadata": {},
   "outputs": [
    {
     "name": "stdout",
     "output_type": "stream",
     "text": [
      "['a', 'c']\n"
     ]
    }
   ],
   "source": [
    "print(li1)"
   ]
  },
  {
   "cell_type": "code",
   "execution_count": null,
   "metadata": {},
   "outputs": [],
   "source": []
  }
 ],
 "metadata": {
  "kernelspec": {
   "display_name": "Python 3",
   "language": "python",
   "name": "python3"
  },
  "language_info": {
   "codemirror_mode": {
    "name": "ipython",
    "version": 3
   },
   "file_extension": ".py",
   "mimetype": "text/x-python",
   "name": "python",
   "nbconvert_exporter": "python",
   "pygments_lexer": "ipython3",
   "version": "3.6.7"
  }
 },
 "nbformat": 4,
 "nbformat_minor": 2
}
