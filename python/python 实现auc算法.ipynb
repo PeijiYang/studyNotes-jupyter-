{
 "cells": [
  {
   "cell_type": "code",
   "execution_count": 1,
   "metadata": {},
   "outputs": [],
   "source": [
    "from sklearn.metrics import roc_auc_score\n",
    "import numpy as np"
   ]
  },
  {
   "cell_type": "code",
   "execution_count": 2,
   "metadata": {},
   "outputs": [
    {
     "data": {
      "text/plain": [
       "0.8333333333333334"
      ]
     },
     "execution_count": 2,
     "metadata": {},
     "output_type": "execute_result"
    }
   ],
   "source": [
    "y_true = np.array([1,1,0,0,1,1,0])\n",
    "y_scores = np.array([0.8, 0.7, 0.5, 0.5, 0.5, 0.5, 0.3])\n",
    "roc_auc_score(y_true, y_scores)"
   ]
  },
  {
   "cell_type": "code",
   "execution_count": 3,
   "metadata": {},
   "outputs": [],
   "source": [
    "def my_auc(y_true, y_scores):\n",
    "    pos = []\n",
    "    neg = []\n",
    "    for t, s in zip(y_true, y_scores):\n",
    "        if t == 1:\n",
    "            pos.append(s)\n",
    "        else:\n",
    "            neg.append(s)\n",
    "    \n",
    "    sum_pos = 0\n",
    "    for i in pos:\n",
    "        for j in neg:\n",
    "            if i > j:\n",
    "                sum_pos += 1\n",
    "            elif i == j:\n",
    "                sum_pos += 0.5\n",
    "            else:\n",
    "                sum_pos += 0\n",
    "    \n",
    "    return sum_pos/(len(pos)*len(neg))"
   ]
  },
  {
   "cell_type": "code",
   "execution_count": 4,
   "metadata": {},
   "outputs": [
    {
     "data": {
      "text/plain": [
       "0.8333333333333334"
      ]
     },
     "execution_count": 4,
     "metadata": {},
     "output_type": "execute_result"
    }
   ],
   "source": [
    "my_auc(y_true, y_scores)"
   ]
  },
  {
   "cell_type": "code",
   "execution_count": null,
   "metadata": {},
   "outputs": [],
   "source": []
  }
 ],
 "metadata": {
  "kernelspec": {
   "display_name": "Python 3",
   "language": "python",
   "name": "python3"
  },
  "language_info": {
   "codemirror_mode": {
    "name": "ipython",
    "version": 3
   },
   "file_extension": ".py",
   "mimetype": "text/x-python",
   "name": "python",
   "nbconvert_exporter": "python",
   "pygments_lexer": "ipython3",
   "version": "3.7.4"
  }
 },
 "nbformat": 4,
 "nbformat_minor": 2
}
