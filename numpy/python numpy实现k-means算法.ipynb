{
 "cells": [
  {
   "cell_type": "code",
   "execution_count": 1,
   "metadata": {},
   "outputs": [],
   "source": [
    "# 伪代码\n",
    "## 创建k个点作为起始质心（随机选择）：\n",
    "#### 当任意一个点的簇分配结果放生改变的时候：\n",
    "###### 对数据集中的每个数据点：\n",
    "######## 对每个质心：\n",
    "########## 计算质心与数据点之间的距离\n",
    "########## 将数据点分配到距其最近的簇\n",
    "###### 对每一个簇：\n",
    "########## 求出均值并将其更新为质心"
   ]
  },
  {
   "cell_type": "code",
   "execution_count": 2,
   "metadata": {},
   "outputs": [],
   "source": [
    "import numpy as np\n",
    "import random\n"
   ]
  },
  {
   "cell_type": "code",
   "execution_count": 3,
   "metadata": {},
   "outputs": [],
   "source": [
    "# 计算距离\n",
    "def cal_distance(a, b):\n",
    "    return np.sum((a-b)**2)**0.5"
   ]
  },
  {
   "cell_type": "code",
   "execution_count": 4,
   "metadata": {},
   "outputs": [],
   "source": [
    "# 计算簇的中心\n",
    "def cal_cluster_center(cluster):\n",
    "    return np.mean(cluster, axis=0)"
   ]
  },
  {
   "cell_type": "code",
   "execution_count": 5,
   "metadata": {},
   "outputs": [],
   "source": [
    "# 数据，k，最大迭代次数\n",
    "def kmeans(data, k, max_iter):\n",
    "    \n",
    "    # 生成index\n",
    "    indexes = [i for i in range(len(data))]\n",
    "    random.shuffle(indexes)\n",
    "    centers = []\n",
    "    \n",
    "    # 选出k个中心点\n",
    "    for i in range(k):\n",
    "        r_idx = indexes[i]\n",
    "        centers.append(data[r_idx])\n",
    "    \n",
    "    pre_centers = centers[:]\n",
    "    \n",
    "    iter_ = 0\n",
    "    while iter_ < max_iter:\n",
    "        \n",
    "        cluster_dict = {}\n",
    "        for x in data:\n",
    "            dist_list = []\n",
    "            for i, center in enumerate(centers):\n",
    "                dist = cal_distance(x, center)\n",
    "                dist_list.append((i, dist))\n",
    "            \n",
    "#             dist_list.sort(key=lambda x:x[1])\n",
    "            min_idx, min_dist = min(dist_list, key=lambda x:x[1])\n",
    "#             min_idx, min_dist = dist_list[0]\n",
    "            \n",
    "            # 将该样例加入该簇\n",
    "            if min_idx not in cluster_dict:\n",
    "                cluster_dict[min_idx] = []\n",
    "            \n",
    "            cluster_dict[min_idx].append(x)\n",
    "            \n",
    "        # 重新计算簇的中心\n",
    "        for i in range(k):\n",
    "            centers[i] = cal_cluster_center(cluster_dict[i])\n",
    "        \n",
    "        if np.allclose(centers, pre_centers):\n",
    "            print(f\"converage by iter:{iter_}\")\n",
    "            break\n",
    "        \n",
    "        pre_centers = centers[:]\n",
    "        iter_ += 1\n",
    "    \n",
    "    return cluster_dict\n",
    "            "
   ]
  },
  {
   "cell_type": "code",
   "execution_count": 6,
   "metadata": {},
   "outputs": [],
   "source": [
    "data = np.random.randn(1000, 2)"
   ]
  },
  {
   "cell_type": "code",
   "execution_count": 7,
   "metadata": {},
   "outputs": [
    {
     "name": "stdout",
     "output_type": "stream",
     "text": [
      "converage by iter:22\n"
     ]
    }
   ],
   "source": [
    "cluster_dict = kmeans(data, 5, 1000)"
   ]
  },
  {
   "cell_type": "code",
   "execution_count": 8,
   "metadata": {},
   "outputs": [
    {
     "data": {
      "text/plain": [
       "dict_keys([0, 4, 1, 3, 2])"
      ]
     },
     "execution_count": 8,
     "metadata": {},
     "output_type": "execute_result"
    }
   ],
   "source": [
    "cluster_dict.keys()"
   ]
  },
  {
   "cell_type": "code",
   "execution_count": 9,
   "metadata": {},
   "outputs": [],
   "source": [
    "color_dict = {\n",
    "    0:\"yellow\",\n",
    "    1:\"green\",\n",
    "    2:\"red\",\n",
    "    3:\"blue\",\n",
    "    4:\"pink\"\n",
    "}"
   ]
  },
  {
   "cell_type": "code",
   "execution_count": 12,
   "metadata": {},
   "outputs": [
    {
     "data": {
      "image/png": "[encoded data removed]",
      "text/plain": [
       "<Figure size 432x288 with 1 Axes>"
      ]
     },
     "metadata": {
      "needs_background": "light"
     },
     "output_type": "display_data"
    }
   ],
   "source": [
    "import matplotlib.pyplot as plt\n",
    "for k,v in cluster_dict.items():\n",
    "    v = np.array(v)\n",
    "    plt.scatter(v[:,0], v[:,1], c=color_dict[k])"
   ]
  },
  {
   "cell_type": "code",
   "execution_count": 11,
   "metadata": {},
   "outputs": [],
   "source": [
    "plt.show()"
   ]
  },
  {
   "cell_type": "code",
   "execution_count": 13,
   "metadata": {},
   "outputs": [],
   "source": [
    "from sklearn.datasets import load_iris"
   ]
  },
  {
   "cell_type": "code",
   "execution_count": 15,
   "metadata": {},
   "outputs": [],
   "source": [
    "iris = load_iris()"
   ]
  },
  {
   "cell_type": "code",
   "execution_count": 54,
   "metadata": {},
   "outputs": [],
   "source": [
    "import torch\n",
    "a = np.array([1,2,3,4], dtype=float)\n",
    "b = np.array([3,3,4,5], dtype=float)"
   ]
  },
  {
   "cell_type": "code",
   "execution_count": 62,
   "metadata": {},
   "outputs": [
    {
     "name": "stderr",
     "output_type": "stream",
     "text": [
      "/raid/ypj/anaconda3/lib/python3.7/site-packages/ipykernel_launcher.py:1: UserWarning: To copy construct from a tensor, it is recommended to use sourceTensor.clone().detach() or sourceTensor.clone().detach().requires_grad_(True), rather than torch.tensor(sourceTensor).\n",
      "  \"\"\"Entry point for launching an IPython kernel.\n",
      "/raid/ypj/anaconda3/lib/python3.7/site-packages/ipykernel_launcher.py:2: UserWarning: To copy construct from a tensor, it is recommended to use sourceTensor.clone().detach() or sourceTensor.clone().detach().requires_grad_(True), rather than torch.tensor(sourceTensor).\n",
      "  \n"
     ]
    }
   ],
   "source": [
    "a = torch.tensor(a)\n",
    "b = torch.tensor(b)"
   ]
  }
 ],
 "metadata": {
  "kernelspec": {
   "display_name": "Python 3",
   "language": "python",
   "name": "python3"
  },
  "language_info": {
   "codemirror_mode": {
    "name": "ipython",
    "version": 3
   },
   "file_extension": ".py",
   "mimetype": "text/x-python",
   "name": "python",
   "nbconvert_exporter": "python",
   "pygments_lexer": "ipython3",
   "version": "3.7.4"
  }
 },
 "nbformat": 4,
 "nbformat_minor": 2
}
