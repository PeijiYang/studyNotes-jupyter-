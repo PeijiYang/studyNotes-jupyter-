{
 "cells": [
  {
   "cell_type": "code",
   "execution_count": 1,
   "metadata": {},
   "outputs": [
    {
     "name": "stdout",
     "output_type": "stream",
     "text": [
      "tensor([[-1.0009,  0.1463, -0.1994, -0.5982, -0.6459]],\n",
      "       grad_fn=<EmbeddingBackward>)\n"
     ]
    }
   ],
   "source": [
    "# -*- coding: utf-8 -*-\n",
    "import numpy as np\n",
    "import torch\n",
    "import torch.nn as nn\n",
    "import torch.nn.functional as F\n",
    "from torch.autograd import Variable\n",
    " \n",
    "word_to_ix = {'hello': 0, 'world': 1}\n",
    "embeds = nn.Embedding(2, 5)\n",
    "hello_idx = torch.LongTensor([word_to_ix['hello']])\n",
    "hello_idx = Variable(hello_idx)\n",
    "hello_embed = embeds(hello_idx)\n",
    "print(hello_embed)"
   ]
  },
  {
   "cell_type": "code",
   "execution_count": 27,
   "metadata": {},
   "outputs": [
    {
     "name": "stdout",
     "output_type": "stream",
     "text": [
      "tensor([[[-1.0009,  0.1463, -0.1994, -0.5982, -0.6459],\n",
      "         [ 0.0733,  1.8930,  0.3297, -3.0341, -0.4301]],\n",
      "\n",
      "        [[ 0.0733,  1.8930,  0.3297, -3.0341, -0.4301],\n",
      "         [-1.0009,  0.1463, -0.1994, -0.5982, -0.6459]]],\n",
      "       grad_fn=<EmbeddingBackward>)\n"
     ]
    }
   ],
   "source": [
    "world_idx = torch.LongTensor([[0,1],[1,0]])\n",
    "world_idx = Variable(world_idx)\n",
    "world_embed = embeds(world_idx)\n",
    "print(world_embed)"
   ]
  },
  {
   "cell_type": "code",
   "execution_count": 5,
   "metadata": {},
   "outputs": [
    {
     "data": {
      "text/plain": [
       "tensor([[-1.0009,  0.1463, -0.1994, -0.5982, -0.6459,  0.0733,  1.8930,  0.3297,\n",
       "         -3.0341, -0.4301]], grad_fn=<CatBackward>)"
      ]
     },
     "execution_count": 5,
     "metadata": {},
     "output_type": "execute_result"
    }
   ],
   "source": [
    "torch.cat([hello_embed, world_embed], 1)"
   ]
  },
  {
   "cell_type": "code",
   "execution_count": 21,
   "metadata": {},
   "outputs": [],
   "source": [
    "x2 = torch.FloatTensor([[1,2,3,4,5,6,7]])"
   ]
  },
  {
   "cell_type": "code",
   "execution_count": 22,
   "metadata": {},
   "outputs": [
    {
     "data": {
      "text/plain": [
       "tensor([[-1.0009,  0.1463, -0.1994, -0.5982, -0.6459,  1.0000,  2.0000,  3.0000,\n",
       "          4.0000,  5.0000,  6.0000,  7.0000]], grad_fn=<CatBackward>)"
      ]
     },
     "execution_count": 22,
     "metadata": {},
     "output_type": "execute_result"
    }
   ],
   "source": [
    "torch.cat([hello_embed, x2], 1)"
   ]
  },
  {
   "cell_type": "code",
   "execution_count": 18,
   "metadata": {},
   "outputs": [
    {
     "data": {
      "text/plain": [
       "tensor([[-0.9277,  2.0393,  0.1304, -3.6323, -1.0760]], grad_fn=<AddBackward0>)"
      ]
     },
     "execution_count": 18,
     "metadata": {},
     "output_type": "execute_result"
    }
   ],
   "source": []
  },
  {
   "cell_type": "code",
   "execution_count": 19,
   "metadata": {},
   "outputs": [],
   "source": [
    "x1 = torch.FloatTensor([[-1.0009,  0.1463, -0.1994, -0.5982, -0.6459], [-0.9277,  2.0393,  0.1304, -3.6323, -1.0760]])"
   ]
  },
  {
   "cell_type": "code",
   "execution_count": 20,
   "metadata": {},
   "outputs": [
    {
     "data": {
      "text/plain": [
       "tensor([[-1.0009,  0.1463, -0.1994, -0.5982, -0.6459, -1.0009,  0.1463, -0.1994,\n",
       "         -0.5982, -0.6459],\n",
       "        [-0.9277,  2.0393,  0.1304, -3.6323, -1.0760, -0.9277,  2.0393,  0.1304,\n",
       "         -3.6323, -1.0760]])"
      ]
     },
     "execution_count": 20,
     "metadata": {},
     "output_type": "execute_result"
    }
   ],
   "source": [
    "torch.cat([x1, x1], 1)"
   ]
  },
  {
   "cell_type": "code",
   "execution_count": null,
   "metadata": {},
   "outputs": [],
   "source": []
  }
 ],
 "metadata": {
  "kernelspec": {
   "display_name": "Python 3",
   "language": "python",
   "name": "python3"
  },
  "language_info": {
   "codemirror_mode": {
    "name": "ipython",
    "version": 3
   },
   "file_extension": ".py",
   "mimetype": "text/x-python",
   "name": "python",
   "nbconvert_exporter": "python",
   "pygments_lexer": "ipython3",
   "version": "3.6.7"
  }
 },
 "nbformat": 4,
 "nbformat_minor": 2
}
